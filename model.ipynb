{
 "cells": [
  {
   "cell_type": "code",
   "execution_count": 2,
   "id": "05163515",
   "metadata": {},
   "outputs": [
    {
     "name": "stderr",
     "output_type": "stream",
     "text": [
      "/home/doaa/miniconda3/lib/python3.13/site-packages/tqdm/auto.py:21: TqdmWarning: IProgress not found. Please update jupyter and ipywidgets. See https://ipywidgets.readthedocs.io/en/stable/user_install.html\n",
      "  from .autonotebook import tqdm as notebook_tqdm\n",
      "2025-10-24 20:44:51.335989: I tensorflow/core/util/port.cc:153] oneDNN custom operations are on. You may see slightly different numerical results due to floating-point round-off errors from different computation orders. To turn them off, set the environment variable `TF_ENABLE_ONEDNN_OPTS=0`.\n",
      "2025-10-24 20:44:51.410240: I tensorflow/core/platform/cpu_feature_guard.cc:210] This TensorFlow binary is optimized to use available CPU instructions in performance-critical operations.\n",
      "To enable the following instructions: AVX2 AVX_VNNI FMA, in other operations, rebuild TensorFlow with the appropriate compiler flags.\n",
      "2025-10-24 20:44:53.215795: I tensorflow/core/util/port.cc:153] oneDNN custom operations are on. You may see slightly different numerical results due to floating-point round-off errors from different computation orders. To turn them off, set the environment variable `TF_ENABLE_ONEDNN_OPTS=0`.\n"
     ]
    }
   ],
   "source": [
    "import streamlit as st\n",
    "import numpy as np\n",
    "import safetensors as stns\n",
    "from transformers import AutoTokenizer, AutoModelForSequenceClassification, Trainer\n",
    "from datasets import load_dataset\n",
    "from sklearn.metrics import accuracy_score, precision_score, recall_score, f1_score\n",
    "import pandas as pd\n"
   ]
  },
  {
   "cell_type": "code",
   "execution_count": 8,
   "id": "06ff5f54",
   "metadata": {},
   "outputs": [],
   "source": [
    "model_path = \"./saved_model\"\n",
    "tokenizer = AutoTokenizer.from_pretrained(model_path)\n",
    "model = AutoModelForSequenceClassification.from_pretrained(model_path)\n",
    "\n",
    "\n"
   ]
  },
  {
   "cell_type": "code",
   "execution_count": 9,
   "id": "a784a22f",
   "metadata": {},
   "outputs": [
    {
     "name": "stderr",
     "output_type": "stream",
     "text": [
      "Generating test split: 16011 examples [00:00, 30425.91 examples/s]\n"
     ]
    }
   ],
   "source": [
    "data_path = \"data/prompt_injection.csv\"\n",
    "dataset = load_dataset(\"csv\", data_files={\"test\": data_path})\n",
    "test_dataset = dataset[\"test\"]\n",
    "\n"
   ]
  },
  {
   "cell_type": "code",
   "execution_count": 10,
   "id": "8238f47e",
   "metadata": {},
   "outputs": [
    {
     "name": "stderr",
     "output_type": "stream",
     "text": [
      "Map: 100%|██████████| 16011/16011 [00:02<00:00, 7705.41 examples/s] \n"
     ]
    }
   ],
   "source": [
    "def combine_prompts(data):\n",
    "    return {\"text\": data[\"System Prompt\"] + \" \" + data[\"User Prompt\"]}\n",
    "\n",
    "test_dataset = test_dataset.map(combine_prompts)\n"
   ]
  },
  {
   "cell_type": "code",
   "execution_count": 11,
   "id": "9f9bc2cb",
   "metadata": {},
   "outputs": [
    {
     "name": "stderr",
     "output_type": "stream",
     "text": [
      "Map: 100%|██████████| 16011/16011 [00:06<00:00, 2536.30 examples/s]\n"
     ]
    }
   ],
   "source": [
    "def tokenize_function(examples):\n",
    "    return tokenizer(examples[\"text\"], truncation=True, padding=\"max_length\")\n",
    "\n",
    "test_dataset = test_dataset.map(tokenize_function, batched=True)\n",
    "\n",
    "test_dataset = test_dataset.rename_column(\"Prompt injection\", \"labels\")\n",
    "test_dataset.set_format(type=\"torch\", columns=[\"input_ids\", \"attention_mask\", \"labels\"])\n"
   ]
  },
  {
   "cell_type": "code",
   "execution_count": 12,
   "id": "bbdfe673",
   "metadata": {},
   "outputs": [
    {
     "data": {
      "text/html": [],
      "text/plain": [
       "<IPython.core.display.HTML object>"
      ]
     },
     "metadata": {},
     "output_type": "display_data"
    },
    {
     "name": "stdout",
     "output_type": "stream",
     "text": [
      "📊 Raw Evaluation Results: {'eval_loss': 2.1393704414367676, 'eval_model_preparation_time': 0.006, 'eval_runtime': 1499.4163, 'eval_samples_per_second': 10.678, 'eval_steps_per_second': 1.335}\n",
      "\n",
      "✅ Final Test Metrics:\n",
      "Accuracy : 0.7847105115233277\n",
      "Precision: 0.7382748195487424\n",
      "Recall   : 0.7847105115233277\n",
      "F1 Score : 0.730873284510155\n"
     ]
    }
   ],
   "source": [
    "\n",
    "trainer = Trainer(model=model)\n",
    "\n",
    "results = trainer.evaluate(test_dataset)\n",
    "print(\"📊 Raw Evaluation Results:\", results)\n",
    "\n",
    "predictions = trainer.predict(test_dataset)\n",
    "y_true = predictions.label_ids\n",
    "y_pred = predictions.predictions.argmax(-1)\n",
    "\n",
    "print(\"\\n✅ Final Test Metrics:\")\n",
    "print(\"Accuracy :\", accuracy_score(y_true, y_pred))\n",
    "print(\"Precision:\", precision_score(y_true, y_pred, average='weighted'))\n",
    "print(\"Recall   :\", recall_score(y_true, y_pred, average='weighted'))\n",
    "print(\"F1 Score :\", f1_score(y_true, y_pred, average='weighted'))"
   ]
  },
  {
   "cell_type": "code",
   "execution_count": null,
   "id": "94272eff",
   "metadata": {},
   "outputs": [],
   "source": []
  },
  {
   "cell_type": "code",
   "execution_count": null,
   "id": "50293924",
   "metadata": {},
   "outputs": [],
   "source": []
  }
 ],
 "metadata": {
  "kernelspec": {
   "display_name": "base",
   "language": "python",
   "name": "python3"
  },
  "language_info": {
   "codemirror_mode": {
    "name": "ipython",
    "version": 3
   },
   "file_extension": ".py",
   "mimetype": "text/x-python",
   "name": "python",
   "nbconvert_exporter": "python",
   "pygments_lexer": "ipython3",
   "version": "3.13.2"
  }
 },
 "nbformat": 4,
 "nbformat_minor": 5
}
